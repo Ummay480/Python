{
  "nbformat": 4,
  "nbformat_minor": 0,
  "metadata": {
    "colab": {
      "provenance": [],
      "authorship_tag": "ABX9TyMvStQerjw8k3Vq2cATIQYB",
      "include_colab_link": true
    },
    "kernelspec": {
      "name": "python3",
      "display_name": "Python 3"
    },
    "language_info": {
      "name": "python"
    }
  },
  "cells": [
    {
      "cell_type": "markdown",
      "metadata": {
        "id": "view-in-github",
        "colab_type": "text"
      },
      "source": [
        "<a href=\"https://colab.research.google.com/github/Ummay480/Python/blob/main/Oop_Practice.ipynb\" target=\"_parent\"><img src=\"https://colab.research.google.com/assets/colab-badge.svg\" alt=\"Open In Colab\"/></a>"
      ]
    },
    {
      "cell_type": "markdown",
      "source": [
        "**Task-1**\n",
        "Ek class bnao EMPLOYEE, JISME NAME, salary\n",
        "Ek Method display() jo employee ka name aur salary dikhay\n"
      ],
      "metadata": {
        "id": "BQ6aFTg83MHY"
      }
    },
    {
      "cell_type": "code",
      "execution_count": null,
      "metadata": {
        "colab": {
          "base_uri": "https://localhost:8080/"
        },
        "id": "pdu0n2ON3F4R",
        "outputId": "d1f6eda3-6c69-4f92-b79d-4182f9dd6298"
      },
      "outputs": [
        {
          "output_type": "stream",
          "name": "stdout",
          "text": [
            "Employee John created with salary 100000\n",
            "Employee Jenie created with salary 120000\n",
            "('John', 100000)\n",
            "('Jenie', 120000)\n"
          ]
        }
      ],
      "source": [
        "class Employee:\n",
        "  def __init__(self, name, salary):\n",
        "    self.name = name\n",
        "    self.salary = salary\n",
        "    print(f\"Employee {self.name} created with salary {self.salary}\")\n",
        "\n",
        "  # Mehod\n",
        "  def display(self):\n",
        "    return(self.name, self.salary)\n",
        "\n",
        "  # Creating Object\n",
        "employee1 = Employee(\"John\", 100000)\n",
        "employee2 = Employee(\"Jenie\", 120000)\n",
        "\n",
        "if __name__ == \"__main__\":\n",
        "    print(employee1.display())\n",
        "    print(employee2.display())\n"
      ]
    },
    {
      "cell_type": "markdown",
      "source": [
        "Ek class bnao EMPLOYEE, JISME NAME, salary\n",
        "Ek Method display() jo employee ka name aur salary dikhay"
      ],
      "metadata": {
        "id": "K0MRaLEk04UX"
      }
    },
    {
      "cell_type": "code",
      "source": [
        "class Employee:\n",
        "  def __init__(self, name, salary):\n",
        "    self.name = name\n",
        "    self.salary = salary\n",
        "    # print(f\"{self.name}'s salary is {self.salary}\")\n",
        "\n",
        "  # Method\n",
        "  def display(self):\n",
        "    return(self.name, self.salary)\n",
        "\n",
        "# Object creating\n",
        "employee1 = Employee(\"John\", 1000000)\n",
        "employee2 = Employee(\"jeine\", 200000)\n",
        "\n",
        "if __name__ == \"__main__\":\n",
        "  print(employee1.display())\n",
        "  print(employee2.display())"
      ],
      "metadata": {
        "colab": {
          "base_uri": "https://localhost:8080/"
        },
        "id": "SjsoZd8k06cG",
        "outputId": "2099c7c6-a325-48d1-965d-aa9e1c774318"
      },
      "execution_count": null,
      "outputs": [
        {
          "output_type": "stream",
          "name": "stdout",
          "text": [
            "('John', \"'s salary is\", 1000000)\n",
            "('jeine', \"'s salary is\", 200000)\n"
          ]
        }
      ]
    },
    {
      "cell_type": "markdown",
      "source": [
        "**Task-2**\n"
      ],
      "metadata": {
        "id": "A15Kv58Ev8qt"
      }
    },
    {
      "cell_type": "code",
      "source": [
        "class CalculatorBot:\n",
        "    def __init__(self, num1, num2):\n",
        "        self.num1 = num1\n",
        "        self.num2 = num2\n",
        "\n",
        "    def add(self):\n",
        "        total = self.num1 + self.num2\n",
        "        return(f\" The addition of {self.num1}, {self.num2}, is {total}\")\n",
        "\n",
        "    def sub(self):\n",
        "        total = self.num1 - self.num2\n",
        "        return(f\" The sutraction of {self.num1}, {self.num2}, is {total}\")\n",
        "\n",
        "\n",
        "    def multiplication(self):\n",
        "        total = self.num1 * self.num2\n",
        "        return(f\" The multiplication of {self.num1}, {self.num2}, is {total}\")\n",
        "\n",
        "\n",
        "    def division(self):\n",
        "        total = self.num1 / self.num2\n",
        "        return(f\" The Division of {self.num1}, {self.num2}, is {total}\")\n",
        "\n",
        "bot = CalculatorBot(10,5)\n",
        "print(bot.add())\n",
        "print(bot.sub())\n",
        "print(bot.multiplication())\n",
        "print(bot.division())"
      ],
      "metadata": {
        "colab": {
          "base_uri": "https://localhost:8080/"
        },
        "id": "_OwRbXAFwBt-",
        "outputId": "8919db94-95d6-4a1d-9930-5b9fdf526ae6"
      },
      "execution_count": 1,
      "outputs": [
        {
          "output_type": "stream",
          "name": "stdout",
          "text": [
            " The addition of 10, 5, is 15\n",
            " The sutraction of 10, 5, is 5\n",
            " The multiplication of 10, 5, is 50\n",
            " The Division of 10, 5, is 2.0\n"
          ]
        }
      ]
    }
  ]
}